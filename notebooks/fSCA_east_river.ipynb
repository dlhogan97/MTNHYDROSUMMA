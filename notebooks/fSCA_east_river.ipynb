{
 "cells": [
  {
   "cell_type": "code",
   "execution_count": 25,
   "metadata": {},
   "outputs": [],
   "source": [
    "import os\n",
    "os.chdir(\"/home/dlhogan/MTNHYDROSUMMA\") # set working directory to your own path\n",
    "\n",
    "import rioxarray as rxr\n",
    "import xarray as xr\n",
    "import geopandas as gpd\n",
    "import py3dep\n",
    "from pynhd import NLDI\n",
    "from utils import get_spires_data\n",
    "import matplotlib.pyplot as plt"
   ]
  },
  {
   "cell_type": "code",
   "execution_count": null,
   "metadata": {},
   "outputs": [],
   "source": [
    "gage_id = \"09112500\"  # East River near Almont, CO\n",
    "basin = NLDI().get_basins(\"09112500\").geometry.iloc[0]\n",
    "topo = py3dep.get_map([\"DEM\", \"Slope Degrees\"], basin, 500, geo_crs=4326,)"
   ]
  },
  {
   "cell_type": "markdown",
   "metadata": {},
   "source": [
    "### Download 2025 data"
   ]
  },
  {
   "cell_type": "code",
   "execution_count": 14,
   "metadata": {},
   "outputs": [
    {
     "name": "stdout",
     "output_type": "stream",
     "text": [
      "Downloaded: SPIRES_NRT_h09v05_MOD09GA061_20250201_V1.0.nc\n",
      "Downloaded: SPIRES_NRT_h09v05_MOD09GA061_20250202_V1.0.nc\n",
      "Downloaded: SPIRES_NRT_h09v05_MOD09GA061_20250203_V1.0.nc\n",
      "Downloaded: SPIRES_NRT_h09v05_MOD09GA061_20250204_V1.0.nc\n",
      "Downloaded: SPIRES_NRT_h09v05_MOD09GA061_20250205_V1.0.nc\n",
      "Downloaded: SPIRES_NRT_h09v05_MOD09GA061_20250206_V1.0.nc\n",
      "Downloaded: SPIRES_NRT_h09v05_MOD09GA061_20250207_V1.0.nc\n",
      "Downloaded: SPIRES_NRT_h09v05_MOD09GA061_20250208_V1.0.nc\n",
      "Downloaded: SPIRES_NRT_h09v05_MOD09GA061_20250209_V1.0.nc\n",
      "Downloaded: SPIRES_NRT_h09v05_MOD09GA061_20250210_V1.0.nc\n",
      "Downloaded: SPIRES_NRT_h09v05_MOD09GA061_20250211_V1.0.nc\n",
      "Downloaded: SPIRES_NRT_h09v05_MOD09GA061_20250212_V1.0.nc\n",
      "Downloaded: SPIRES_NRT_h09v05_MOD09GA061_20250213_V1.0.nc\n",
      "Downloaded: SPIRES_NRT_h09v05_MOD09GA061_20250214_V1.0.nc\n",
      "Downloaded: SPIRES_NRT_h09v05_MOD09GA061_20250215_V1.0.nc\n",
      "Downloaded: SPIRES_NRT_h09v05_MOD09GA061_20250216_V1.0.nc\n",
      "Downloaded: SPIRES_NRT_h09v05_MOD09GA061_20250217_V1.0.nc\n",
      "Downloaded: SPIRES_NRT_h09v05_MOD09GA061_20250218_V1.0.nc\n",
      "Downloaded: SPIRES_NRT_h09v05_MOD09GA061_20250219_V1.0.nc\n",
      "Downloaded: SPIRES_NRT_h09v05_MOD09GA061_20250220_V1.0.nc\n",
      "Downloaded: SPIRES_NRT_h09v05_MOD09GA061_20250221_V1.0.nc\n",
      "Downloaded: SPIRES_NRT_h09v05_MOD09GA061_20250222_V1.0.nc\n",
      "Downloaded: SPIRES_NRT_h09v05_MOD09GA061_20250223_V1.0.nc\n",
      "Downloaded: SPIRES_NRT_h09v05_MOD09GA061_20250224_V1.0.nc\n",
      "Downloaded: SPIRES_NRT_h09v05_MOD09GA061_20250225_V1.0.nc\n",
      "Downloaded: SPIRES_NRT_h09v05_MOD09GA061_20250226_V1.0.nc\n",
      "Downloaded: SPIRES_NRT_h09v05_MOD09GA061_20250227_V1.0.nc\n",
      "Downloaded: SPIRES_NRT_h09v05_MOD09GA061_20250228_V1.0.nc\n",
      "Downloaded: SPIRES_NRT_h09v05_MOD09GA061_20250301_V1.0.nc\n",
      "Downloaded: SPIRES_NRT_h09v05_MOD09GA061_20250302_V1.0.nc\n",
      "Downloaded: SPIRES_NRT_h09v05_MOD09GA061_20250303_V1.0.nc\n",
      "Downloaded: SPIRES_NRT_h09v05_MOD09GA061_20250304_V1.0.nc\n",
      "Downloaded: SPIRES_NRT_h09v05_MOD09GA061_20250305_V1.0.nc\n",
      "Downloaded: SPIRES_NRT_h09v05_MOD09GA061_20250306_V1.0.nc\n",
      "Downloaded: SPIRES_NRT_h09v05_MOD09GA061_20250307_V1.0.nc\n",
      "Downloaded: SPIRES_NRT_h09v05_MOD09GA061_20250308_V1.0.nc\n",
      "Downloaded: SPIRES_NRT_h09v05_MOD09GA061_20250309_V1.0.nc\n",
      "Downloaded: SPIRES_NRT_h09v05_MOD09GA061_20250310_V1.0.nc\n",
      "Downloaded: SPIRES_NRT_h09v05_MOD09GA061_20250311_V1.0.nc\n",
      "Downloaded: SPIRES_NRT_h09v05_MOD09GA061_20250312_V1.0.nc\n",
      "Downloaded: SPIRES_NRT_h09v05_MOD09GA061_20250313_V1.0.nc\n",
      "Downloaded: SPIRES_NRT_h09v05_MOD09GA061_20250314_V1.0.nc\n",
      "Downloaded: SPIRES_NRT_h09v05_MOD09GA061_20250315_V1.0.nc\n",
      "Downloaded: SPIRES_NRT_h09v05_MOD09GA061_20250316_V1.0.nc\n",
      "Downloaded: SPIRES_NRT_h09v05_MOD09GA061_20250317_V1.0.nc\n",
      "Downloaded: SPIRES_NRT_h09v05_MOD09GA061_20250318_V1.0.nc\n",
      "Downloaded: SPIRES_NRT_h09v05_MOD09GA061_20250319_V1.0.nc\n",
      "Downloaded: SPIRES_NRT_h09v05_MOD09GA061_20250320_V1.0.nc\n",
      "Downloaded: SPIRES_NRT_h09v05_MOD09GA061_20250321_V1.0.nc\n",
      "Downloaded: SPIRES_NRT_h09v05_MOD09GA061_20250322_V1.0.nc\n",
      "Downloaded: SPIRES_NRT_h09v05_MOD09GA061_20250323_V1.0.nc\n",
      "Downloaded: SPIRES_NRT_h09v05_MOD09GA061_20250324_V1.0.nc\n",
      "Downloaded: SPIRES_NRT_h09v05_MOD09GA061_20250325_V1.0.nc\n",
      "Downloaded: SPIRES_NRT_h09v05_MOD09GA061_20250326_V1.0.nc\n",
      "Downloaded: SPIRES_NRT_h09v05_MOD09GA061_20250327_V1.0.nc\n",
      "Downloaded: SPIRES_NRT_h09v05_MOD09GA061_20250328_V1.0.nc\n",
      "Downloaded: SPIRES_NRT_h09v05_MOD09GA061_20250329_V1.0.nc\n",
      "Downloaded: SPIRES_NRT_h09v05_MOD09GA061_20250330_V1.0.nc\n",
      "Downloaded: SPIRES_NRT_h09v05_MOD09GA061_20250331_V1.0.nc\n",
      "Downloaded: SPIRES_NRT_h09v05_MOD09GA061_20250401_V1.0.nc\n",
      "✔️ Already exists: SPIRES_NRT_h09v05_MOD09GA061_20250402_V1.0.nc\n",
      "✔️ Already exists: SPIRES_NRT_h09v05_MOD09GA061_20250403_V1.0.nc\n",
      "✔️ Already exists: SPIRES_NRT_h09v05_MOD09GA061_20250404_V1.0.nc\n",
      "✔️ Already exists: SPIRES_NRT_h09v05_MOD09GA061_20250405_V1.0.nc\n",
      "✔️ Already exists: SPIRES_NRT_h09v05_MOD09GA061_20250406_V1.0.nc\n",
      "✔️ Already exists: SPIRES_NRT_h09v05_MOD09GA061_20250407_V1.0.nc\n",
      "✔️ Already exists: SPIRES_NRT_h09v05_MOD09GA061_20250408_V1.0.nc\n",
      "✔️ Already exists: SPIRES_NRT_h09v05_MOD09GA061_20250409_V1.0.nc\n",
      "✔️ Already exists: SPIRES_NRT_h09v05_MOD09GA061_20250410_V1.0.nc\n",
      "✔️ Already exists: SPIRES_NRT_h09v05_MOD09GA061_20250411_V1.0.nc\n",
      "✔️ Already exists: SPIRES_NRT_h09v05_MOD09GA061_20250412_V1.0.nc\n",
      "✔️ Already exists: SPIRES_NRT_h09v05_MOD09GA061_20250413_V1.0.nc\n",
      "✔️ Already exists: SPIRES_NRT_h09v05_MOD09GA061_20250414_V1.0.nc\n",
      "✔️ Already exists: SPIRES_NRT_h09v05_MOD09GA061_20250415_V1.0.nc\n",
      "✔️ Already exists: SPIRES_NRT_h09v05_MOD09GA061_20250416_V1.0.nc\n",
      "✔️ Already exists: SPIRES_NRT_h09v05_MOD09GA061_20250417_V1.0.nc\n",
      "✔️ Already exists: SPIRES_NRT_h09v05_MOD09GA061_20250418_V1.0.nc\n",
      "✔️ Already exists: SPIRES_NRT_h09v05_MOD09GA061_20250419_V1.0.nc\n",
      "✔️ Already exists: SPIRES_NRT_h09v05_MOD09GA061_20250420_V1.0.nc\n",
      "✔️ Already exists: SPIRES_NRT_h09v05_MOD09GA061_20250421_V1.0.nc\n",
      "✔️ Already exists: SPIRES_NRT_h09v05_MOD09GA061_20250422_V1.0.nc\n",
      "✔️ Already exists: SPIRES_NRT_h09v05_MOD09GA061_20250423_V1.0.nc\n",
      "✔️ Already exists: SPIRES_NRT_h09v05_MOD09GA061_20250424_V1.0.nc\n",
      "✔️ Already exists: SPIRES_NRT_h09v05_MOD09GA061_20250425_V1.0.nc\n",
      "✔️ Already exists: SPIRES_NRT_h09v05_MOD09GA061_20250426_V1.0.nc\n",
      "✔️ Already exists: SPIRES_NRT_h09v05_MOD09GA061_20250427_V1.0.nc\n",
      "✔️ Already exists: SPIRES_NRT_h09v05_MOD09GA061_20250428_V1.0.nc\n",
      "✔️ Already exists: SPIRES_NRT_h09v05_MOD09GA061_20250429_V1.0.nc\n",
      "✔️ Already exists: SPIRES_NRT_h09v05_MOD09GA061_20250430_V1.0.nc\n",
      "✔️ Already exists: SPIRES_NRT_h09v05_MOD09GA061_20250501_V1.0.nc\n",
      "✔️ Already exists: SPIRES_NRT_h09v05_MOD09GA061_20250502_V1.0.nc\n",
      "✔️ Already exists: SPIRES_NRT_h09v05_MOD09GA061_20250503_V1.0.nc\n",
      "✔️ Already exists: SPIRES_NRT_h09v05_MOD09GA061_20250504_V1.0.nc\n",
      "✔️ Already exists: SPIRES_NRT_h09v05_MOD09GA061_20250505_V1.0.nc\n",
      "✔️ Already exists: SPIRES_NRT_h09v05_MOD09GA061_20250506_V1.0.nc\n",
      "✔️ Already exists: SPIRES_NRT_h09v05_MOD09GA061_20250507_V1.0.nc\n",
      "✔️ Already exists: SPIRES_NRT_h09v05_MOD09GA061_20250508_V1.0.nc\n",
      "✔️ Already exists: SPIRES_NRT_h09v05_MOD09GA061_20250509_V1.0.nc\n",
      "✔️ Already exists: SPIRES_NRT_h09v05_MOD09GA061_20250510_V1.0.nc\n",
      "✔️ Already exists: SPIRES_NRT_h09v05_MOD09GA061_20250511_V1.0.nc\n",
      "✔️ Already exists: SPIRES_NRT_h09v05_MOD09GA061_20250512_V1.0.nc\n",
      "✔️ Already exists: SPIRES_NRT_h09v05_MOD09GA061_20250513_V1.0.nc\n",
      "✔️ Already exists: SPIRES_NRT_h09v05_MOD09GA061_20250514_V1.0.nc\n",
      "✔️ Already exists: SPIRES_NRT_h09v05_MOD09GA061_20250515_V1.0.nc\n",
      "✔️ Already exists: SPIRES_NRT_h09v05_MOD09GA061_20250516_V1.0.nc\n",
      "✔️ Already exists: SPIRES_NRT_h09v05_MOD09GA061_20250517_V1.0.nc\n",
      "✔️ Already exists: SPIRES_NRT_h09v05_MOD09GA061_20250518_V1.0.nc\n",
      "✔️ Already exists: SPIRES_NRT_h09v05_MOD09GA061_20250519_V1.0.nc\n",
      "✔️ Already exists: SPIRES_NRT_h09v05_MOD09GA061_20250520_V1.0.nc\n",
      "✔️ Already exists: SPIRES_NRT_h09v05_MOD09GA061_20250521_V1.0.nc\n",
      "✔️ Already exists: SPIRES_NRT_h09v05_MOD09GA061_20250522_V1.0.nc\n",
      "✔️ Already exists: SPIRES_NRT_h09v05_MOD09GA061_20250523_V1.0.nc\n",
      "✔️ Already exists: SPIRES_NRT_h09v05_MOD09GA061_20250524_V1.0.nc\n",
      "✔️ Already exists: SPIRES_NRT_h09v05_MOD09GA061_20250525_V1.0.nc\n",
      "✔️ Already exists: SPIRES_NRT_h09v05_MOD09GA061_20250526_V1.0.nc\n",
      "✔️ Already exists: SPIRES_NRT_h09v05_MOD09GA061_20250527_V1.0.nc\n",
      "✔️ Already exists: SPIRES_NRT_h09v05_MOD09GA061_20250528_V1.0.nc\n",
      "✔️ Already exists: SPIRES_NRT_h09v05_MOD09GA061_20250529_V1.0.nc\n",
      "✔️ Already exists: SPIRES_NRT_h09v05_MOD09GA061_20250530_V1.0.nc\n",
      "✔️ Already exists: SPIRES_NRT_h09v05_MOD09GA061_20250531_V1.0.nc\n",
      "Downloaded: SPIRES_NRT_h09v05_MOD09GA061_20250601_V1.0.nc\n",
      "Downloaded: SPIRES_NRT_h09v05_MOD09GA061_20250602_V1.0.nc\n",
      "Downloaded: SPIRES_NRT_h09v05_MOD09GA061_20250603_V1.0.nc\n",
      "Downloaded: SPIRES_NRT_h09v05_MOD09GA061_20250604_V1.0.nc\n",
      "Downloaded: SPIRES_NRT_h09v05_MOD09GA061_20250605_V1.0.nc\n",
      "Downloaded: SPIRES_NRT_h09v05_MOD09GA061_20250606_V1.0.nc\n",
      "Downloaded: SPIRES_NRT_h09v05_MOD09GA061_20250607_V1.0.nc\n",
      "Downloaded: SPIRES_NRT_h09v05_MOD09GA061_20250608_V1.0.nc\n",
      "Downloaded: SPIRES_NRT_h09v05_MOD09GA061_20250609_V1.0.nc\n",
      "Downloaded: SPIRES_NRT_h09v05_MOD09GA061_20250610_V1.0.nc\n",
      "Downloaded: SPIRES_NRT_h09v05_MOD09GA061_20250611_V1.0.nc\n",
      "Downloaded: SPIRES_NRT_h09v05_MOD09GA061_20250612_V1.0.nc\n",
      "Downloaded: SPIRES_NRT_h09v05_MOD09GA061_20250613_V1.0.nc\n",
      "Downloaded: SPIRES_NRT_h09v05_MOD09GA061_20250614_V1.0.nc\n",
      "Downloaded: SPIRES_NRT_h09v05_MOD09GA061_20250615_V1.0.nc\n",
      "Downloaded: SPIRES_NRT_h09v05_MOD09GA061_20250616_V1.0.nc\n",
      "Downloaded: SPIRES_NRT_h09v05_MOD09GA061_20250617_V1.0.nc\n",
      "Downloaded: SPIRES_NRT_h09v05_MOD09GA061_20250618_V1.0.nc\n",
      "Downloaded: SPIRES_NRT_h09v05_MOD09GA061_20250619_V1.0.nc\n",
      "Downloaded: SPIRES_NRT_h09v05_MOD09GA061_20250620_V1.0.nc\n",
      "Downloaded: SPIRES_NRT_h09v05_MOD09GA061_20250621_V1.0.nc\n",
      "Downloaded: SPIRES_NRT_h09v05_MOD09GA061_20250622_V1.0.nc\n",
      "Downloaded: SPIRES_NRT_h09v05_MOD09GA061_20250623_V1.0.nc\n",
      "Downloaded: SPIRES_NRT_h09v05_MOD09GA061_20250624_V1.0.nc\n",
      "Downloaded: SPIRES_NRT_h09v05_MOD09GA061_20250625_V1.0.nc\n",
      "Downloaded: SPIRES_NRT_h09v05_MOD09GA061_20250626_V1.0.nc\n",
      "Downloaded: SPIRES_NRT_h09v05_MOD09GA061_20250627_V1.0.nc\n",
      "Downloaded: SPIRES_NRT_h09v05_MOD09GA061_20250628_V1.0.nc\n",
      "Downloaded: SPIRES_NRT_h09v05_MOD09GA061_20250629_V1.0.nc\n",
      "Downloaded: SPIRES_NRT_h09v05_MOD09GA061_20250630_V1.0.nc\n",
      "All downloads complete. Check /home/dlhogan/data/spires/2025 for files.\n"
     ]
    }
   ],
   "source": [
    "get_spires_data.download_spires_data(\n",
    "    year=2025,\n",
    "    months=[\"02\",\"03\",\"04\",\"05\",\"06\"],\n",
    "    product=\"NRT\",\n",
    "    tile=\"h09v05\",\n",
    "    destination_base=\"~/data/spires\")"
   ]
  },
  {
   "cell_type": "markdown",
   "metadata": {},
   "source": [
    "### Download 2024 Data"
   ]
  },
  {
   "cell_type": "code",
   "execution_count": null,
   "metadata": {},
   "outputs": [],
   "source": [
    "get_spires_data.download_spires_data(\n",
    "    year=2024,\n",
    "    months=[\"02\",\"03\",\"04\",\"05\",\"06\"],\n",
    "    product=\"HIST\",\n",
    "    tile=\"h09v05\",\n",
    "    destination_base=\"~/data/spires\")"
   ]
  },
  {
   "cell_type": "markdown",
   "metadata": {},
   "source": [
    "### Download historic data (to do later)\n",
    "Can download back to 2000"
   ]
  },
  {
   "cell_type": "code",
   "execution_count": 49,
   "metadata": {},
   "outputs": [
    {
     "name": "stdout",
     "output_type": "stream",
     "text": [
      "CRS mismatch! Basin GDF CRS: EPSG:4326 Dataset CRS: PROJCS[\"MODIS Sinusoidal\",GEOGCS[\"User with datum World Geodetic Survey 1984\",DATUM[\"unnamed\",SPHEROID[\"unnamed\",6371007.181,0]],PRIMEM[\"Greenwich\",0],UNIT[\"degree\",0.0174532925199433,AUTHORITY[\"EPSG\",\"9122\"]]],PROJECTION[\"Sinusoidal\"],PARAMETER[\"longitude_of_center\",0],PARAMETER[\"false_easting\",0],PARAMETER[\"false_northing\",0],UNIT[\"metre\",1,AUTHORITY[\"EPSG\",\"9001\"]],AXIS[\"Easting\",EAST],AXIS[\"Northing\",NORTH]]\n",
      "Reprojected dataset CRS: EPSG:4326\n"
     ]
    }
   ],
   "source": [
    "gage_id = \"09112500\"  # East River near Almont, CO\n",
    "ds = xr.open_dataset(\"/home/dlhogan/data/spires/2025/SPIRES_NRT_h09v05_MOD09GA061_20250630_V1.0.nc\")\n",
    "ds_clipped = get_spires_data.clip_to_basin(ds, gage_id).squeeze()"
   ]
  },
  {
   "cell_type": "code",
   "execution_count": 50,
   "metadata": {},
   "outputs": [],
   "source": [
    "# reproject elevation data to match the clipped dataset\n",
    "elevation_reproj = topo.elevation.rio.reproject_match(ds_clipped)\n",
    "# establish elevation bands for analysis\n",
    "elevation_bands = [2750, 3000, 3250, 3500, 3750, 4000]\n",
    "\n",
    "# calculate the mean snow fraction for each elevation band\n",
    "ds_clipped['elevation'] = elevation_reproj\n",
    "\n",
    "# groupby bins and calculate mean snow fraction\n",
    "mean_snow_fraction = ds_clipped.groupby_bins('elevation', bins=elevation_bands, labels=elevation_bands[:-1]).mean()"
   ]
  },
  {
   "cell_type": "code",
   "execution_count": 53,
   "metadata": {},
   "outputs": [
    {
     "data": {
      "text/plain": [
       "[<matplotlib.lines.Line2D at 0x713b5ab7d420>]"
      ]
     },
     "execution_count": 53,
     "metadata": {},
     "output_type": "execute_result"
    },
    {
     "data": {
      "image/png": "[encoded data removed]",
      "text/plain": [
       "<Figure size 640x480 with 1 Axes>"
      ]
     },
     "metadata": {},
     "output_type": "display_data"
    }
   ],
   "source": [
    "mean_snow_fraction['snow_fraction'].plot()"
   ]
  }
 ],
 "metadata": {
  "kernelspec": {
   "display_name": "project_env",
   "language": "python",
   "name": "python3"
  },
  "language_info": {
   "codemirror_mode": {
    "name": "ipython",
    "version": 3
   },
   "file_extension": ".py",
   "mimetype": "text/x-python",
   "name": "python",
   "nbconvert_exporter": "python",
   "pygments_lexer": "ipython3",
   "version": "3.10.0"
  }
 },
 "nbformat": 4,
 "nbformat_minor": 2
}
